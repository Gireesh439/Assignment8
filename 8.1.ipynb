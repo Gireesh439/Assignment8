{
 "cells": [
  {
   "cell_type": "code",
   "execution_count": 2,
   "metadata": {},
   "outputs": [],
   "source": [
    "import scipy\n",
    "\n",
    "import numpy as np\n",
    "from scipy import stats\n",
    "\n",
    "import matplotlib\n",
    "matplotlib.use('Agg')\n",
    "import matplotlib.pyplot as plt\n",
    "\n",
    "max_temps = 39, 41, 43, 47, 49, 51, 45, 38, 37, 29, 27, 25\n",
    "min_temps = 21, 23, 27, 28, 32, 35, 31, 28, 21, 19, 17, 18\n",
    "months = np.arange(12)\n",
    "\n",
    "from scipy import optimize\n",
    "def yearly_temps(times,avg,ampl,time_offset):\n",
    "\treturn (avg + ampl * np.cos((times + time_offset) * 2 * np.pi / times.max()))\n",
    "\t\n",
    "res_max, cov_max = optimize.curve_fit(yearly_temps, months, max_temps, [20, 10, 0])\n",
    "\n",
    "res_min, cov_min = optimize.curve_fit(yearly_temps, months, min_temps, [-40, 20,0])\n",
    "\n",
    "days = np.linspace(0,12, num=365)\n",
    "\n",
    "plt.plot(months,max_temps, 'ro')\n",
    "plt.plot(days, yearly_temps(days, *res_max), 'r-')\n",
    "plt.plot(months, min_temps, 'bo')\n",
    "plt.plot(days, yearly_temps(days, *res_min), 'b-')\n",
    "plt.xlabel('Month')\n",
    "plt.ylabel('Min and Max Temperatures')\n",
    "plt.savefig('assignment.8.1.png')\n",
    "\n"
   ]
  },
  {
   "cell_type": "code",
   "execution_count": null,
   "metadata": {},
   "outputs": [],
   "source": []
  }
 ],
 "metadata": {
  "kernelspec": {
   "display_name": "Python 3",
   "language": "python",
   "name": "python3"
  },
  "language_info": {
   "codemirror_mode": {
    "name": "ipython",
    "version": 3
   },
   "file_extension": ".py",
   "mimetype": "text/x-python",
   "name": "python",
   "nbconvert_exporter": "python",
   "pygments_lexer": "ipython3",
   "version": "3.6.4"
  }
 },
 "nbformat": 4,
 "nbformat_minor": 2
}
